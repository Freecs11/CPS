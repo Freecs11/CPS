{
 "cells": [
  {
   "cell_type": "code",
   "execution_count": 130,
   "metadata": {},
   "outputs": [],
   "source": [
    "nbThreads = [5,10, 20, 50, 100]\n",
    "execTime = []\n"
   ]
  },
  {
   "cell_type": "code",
   "execution_count": 131,
   "metadata": {},
   "outputs": [],
   "source": [
    "import csv\n",
    "\n",
    "for nb in nbThreads:\n",
    "    with open(f\"testResults{nb}T.csv\") as csv_file:\n",
    "        csv_reader = csv.reader(csv_file, delimiter=\",\")\n",
    "        currentList = []\n",
    "        for row in csv_reader:\n",
    "            currentList.append(row[4])\n",
    "        execTime.append(currentList)"
   ]
  },
  {
   "cell_type": "code",
   "execution_count": 132,
   "metadata": {},
   "outputs": [],
   "source": [
    "for list in execTime:\n",
    "    list.remove(\"Duration\")"
   ]
  },
  {
   "cell_type": "code",
   "execution_count": 133,
   "metadata": {},
   "outputs": [],
   "source": [
    "execTime = [[float(j) for j in i] for i in execTime]\n"
   ]
  },
  {
   "cell_type": "code",
   "execution_count": 134,
   "metadata": {},
   "outputs": [],
   "source": [
    "for index1, list in enumerate(execTime):\n",
    "    for index2, time in enumerate(list):\n",
    "        execTime[index1][index2] = time / 1000000000\n"
   ]
  },
  {
   "cell_type": "code",
   "execution_count": 135,
   "metadata": {},
   "outputs": [
    {
     "data": {
      "text/plain": [
       "{'whiskers': [<matplotlib.lines.Line2D at 0x1e0b400a890>,\n",
       "  <matplotlib.lines.Line2D at 0x1e0b400b510>,\n",
       "  <matplotlib.lines.Line2D at 0x1e0b4017450>,\n",
       "  <matplotlib.lines.Line2D at 0x1e0b4017e90>,\n",
       "  <matplotlib.lines.Line2D at 0x1e0b401fdd0>,\n",
       "  <matplotlib.lines.Line2D at 0x1e0b5030910>,\n",
       "  <matplotlib.lines.Line2D at 0x1e0b503c5d0>,\n",
       "  <matplotlib.lines.Line2D at 0x1e0b503cfd0>],\n",
       " 'caps': [<matplotlib.lines.Line2D at 0x1e0b4014050>,\n",
       "  <matplotlib.lines.Line2D at 0x1e0b4014b50>,\n",
       "  <matplotlib.lines.Line2D at 0x1e0b401c910>,\n",
       "  <matplotlib.lines.Line2D at 0x1e0b401d390>,\n",
       "  <matplotlib.lines.Line2D at 0x1e0b5031350>,\n",
       "  <matplotlib.lines.Line2D at 0x1e0b5031ed0>,\n",
       "  <matplotlib.lines.Line2D at 0x1e0b503da10>,\n",
       "  <matplotlib.lines.Line2D at 0x1e0b503e510>],\n",
       " 'boxes': [<matplotlib.lines.Line2D at 0x1e0b4009dd0>,\n",
       "  <matplotlib.lines.Line2D at 0x1e0b40169d0>,\n",
       "  <matplotlib.lines.Line2D at 0x1e0b401f350>,\n",
       "  <matplotlib.lines.Line2D at 0x1e0b5033d10>],\n",
       " 'medians': [<matplotlib.lines.Line2D at 0x1e0b40154d0>,\n",
       "  <matplotlib.lines.Line2D at 0x1e0b401ddd0>,\n",
       "  <matplotlib.lines.Line2D at 0x1e0b50328d0>,\n",
       "  <matplotlib.lines.Line2D at 0x1e0b503ef50>],\n",
       " 'fliers': [<matplotlib.lines.Line2D at 0x1e0b3c19c90>,\n",
       "  <matplotlib.lines.Line2D at 0x1e0b3f31410>,\n",
       "  <matplotlib.lines.Line2D at 0x1e0b3cba590>,\n",
       "  <matplotlib.lines.Line2D at 0x1e0b503fa50>],\n",
       " 'means': []}"
      ]
     },
     "execution_count": 135,
     "metadata": {},
     "output_type": "execute_result"
    },
    {
     "data": {
      "image/png": "[encoded data removed]",
      "text/plain": [
       "<Figure size 640x480 with 1 Axes>"
      ]
     },
     "metadata": {},
     "output_type": "display_data"
    }
   ],
   "source": [
    "import matplotlib.pyplot as plt\n",
    "plt.boxplot(execTime, labels=nbThreads)"
   ]
  }
 ],
 "metadata": {
  "kernelspec": {
   "display_name": "Python 3",
   "language": "python",
   "name": "python3"
  },
  "language_info": {
   "codemirror_mode": {
    "name": "ipython",
    "version": 3
   },
   "file_extension": ".py",
   "mimetype": "text/x-python",
   "name": "python",
   "nbconvert_exporter": "python",
   "pygments_lexer": "ipython3",
   "version": "3.11.1"
  }
 },
 "nbformat": 4,
 "nbformat_minor": 2
}
